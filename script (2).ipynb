{
  "nbformat": 4,
  "nbformat_minor": 0,
  "metadata": {
    "colab": {
      "provenance": []
    },
    "kernelspec": {
      "name": "python3",
      "display_name": "Python 3"
    },
    "language_info": {
      "name": "python"
    }
  },
  "cells": [
    {
      "cell_type": "code",
      "source": [
        "from time import sleep\n",
        "from threading import Thread\n",
        "def tarefa(tempo_espera, mensagem):\n",
        "    print(f'\\nIniciando a tarefa {tarefa}')\n",
        "    sleep(tempo_espera)\n",
        "    print(f'Conclusão da tarefa {mensagem}')\n",
        "thread = Thread(target=tarefa, args=(2, 'Thread em execução'))\n",
        "thread.start()\n",
        "print('Aguardando pela execução....')\n",
        "thread.join()\n",
        "print(\"A execução foi concluida!\")\n",
        "\n"
      ],
      "metadata": {
        "colab": {
          "base_uri": "https://localhost:8080/"
        },
        "id": "RkhwDiRfizU-",
        "outputId": "10c66e73-057b-4928-f56e-89c3f1856b85"
      },
      "execution_count": 1,
      "outputs": [
        {
          "output_type": "stream",
          "name": "stdout",
          "text": [
            "\n",
            "Iniciando a tarefa <function tarefa at 0x7e442fe6a7a0>\n",
            "Aguardando pela execução....\n",
            "Conclusão da tarefa Thread em execução\n",
            "A execução foi concluida!\n"
          ]
        }
      ]
    }
  ]
}