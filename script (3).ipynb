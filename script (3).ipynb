{
  "nbformat": 4,
  "nbformat_minor": 0,
  "metadata": {
    "colab": {
      "provenance": []
    },
    "kernelspec": {
      "name": "python3",
      "display_name": "Python 3"
    },
    "language_info": {
      "name": "python"
    }
  },
  "cells": [
    {
      "cell_type": "code",
      "source": [
        "from time import sleep\n",
        "from threading import Thread\n",
        "def tarefa(tempo_espera, nome_tarefa):\n",
        "    print(f'\\nIniciando a tarefa {nome_tarefa}')\n",
        "    sleep(tempo_espera)\n",
        "    print(f'Conclusão da tarefa {nome_tarefa}')\n",
        "\n",
        "t1= Thread(target=tarefa, args=(3, 'A, em execução...'))\n",
        "t2= Thread(target=tarefa, args=(2, 'B, em execução...'))\n",
        "t1.start()\n",
        "t2.start()\n",
        "t1.join()#esperar até completar a execução da t1\n",
        "t2.join()#esperar até completar a execução da t2\n",
        "print('A execução foi concluida!')\n",
        "\n",
        "\n",
        "\n"
      ],
      "metadata": {
        "colab": {
          "base_uri": "https://localhost:8080/"
        },
        "id": "RkhwDiRfizU-",
        "outputId": "bb125ea4-7f2f-4a6e-afa5-beeb858532ad"
      },
      "execution_count": 3,
      "outputs": [
        {
          "output_type": "stream",
          "name": "stdout",
          "text": [
            "\n",
            "Iniciando a tarefa A, em execução...\n",
            "\n",
            "Iniciando a tarefa B, em execução...\n",
            "Conclusão da tarefa B, em execução...\n",
            "Conclusão da tarefa A, em execução...\n",
            "A execução foi concluida!\n"
          ]
        }
      ]
    }
  ]
}